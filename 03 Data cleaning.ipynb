{
 "cells": [
  {
   "cell_type": "code",
   "execution_count": 1,
   "metadata": {},
   "outputs": [],
   "source": [
    "import pandas as pd\n",
    "import numpy as np"
   ]
  },
  {
   "cell_type": "code",
   "execution_count": 2,
   "metadata": {},
   "outputs": [],
   "source": [
    "df = pd.read_sas('data/cntrct_srs_an.sas7bdat', encoding='unicode_escape', index='Contract_ID')"
   ]
  },
  {
   "cell_type": "code",
   "execution_count": 3,
   "metadata": {},
   "outputs": [
    {
     "data": {
      "text/html": [
       "<div>\n",
       "<style scoped>\n",
       "    .dataframe tbody tr th:only-of-type {\n",
       "        vertical-align: middle;\n",
       "    }\n",
       "\n",
       "    .dataframe tbody tr th {\n",
       "        vertical-align: top;\n",
       "    }\n",
       "\n",
       "    .dataframe thead th {\n",
       "        text-align: right;\n",
       "    }\n",
       "</style>\n",
       "<table border=\"1\" class=\"dataframe\">\n",
       "  <thead>\n",
       "    <tr style=\"text-align: right;\">\n",
       "      <th></th>\n",
       "      <th>COD_FASE_OPE</th>\n",
       "      <th>COD_TIPO_OPE</th>\n",
       "      <th>COD_STT_OPE</th>\n",
       "      <th>DAT_INS</th>\n",
       "      <th>DAT_INZ_OPE</th>\n",
       "      <th>DAT_END_OPE_P</th>\n",
       "      <th>DAT_END_OPE</th>\n",
       "      <th>Instit_ID</th>\n",
       "    </tr>\n",
       "    <tr>\n",
       "      <th>Contract_ID</th>\n",
       "      <th></th>\n",
       "      <th></th>\n",
       "      <th></th>\n",
       "      <th></th>\n",
       "      <th></th>\n",
       "      <th></th>\n",
       "      <th></th>\n",
       "      <th></th>\n",
       "    </tr>\n",
       "  </thead>\n",
       "  <tbody>\n",
       "    <tr>\n",
       "      <th>S_000001</th>\n",
       "      <td>UP</td>\n",
       "      <td>IU</td>\n",
       "      <td>NaN</td>\n",
       "      <td>17223.0</td>\n",
       "      <td>17226.0</td>\n",
       "      <td>17956.0</td>\n",
       "      <td>17866.0</td>\n",
       "      <td>H_002</td>\n",
       "    </tr>\n",
       "    <tr>\n",
       "      <th>S_000006</th>\n",
       "      <td>EX</td>\n",
       "      <td>HU</td>\n",
       "      <td>NaN</td>\n",
       "      <td>17223.0</td>\n",
       "      <td>17241.0</td>\n",
       "      <td>19807.0</td>\n",
       "      <td>NaN</td>\n",
       "      <td>H_002</td>\n",
       "    </tr>\n",
       "    <tr>\n",
       "      <th>S_000029</th>\n",
       "      <td>UK</td>\n",
       "      <td>SU</td>\n",
       "      <td>NaN</td>\n",
       "      <td>17233.0</td>\n",
       "      <td>17233.0</td>\n",
       "      <td>17582.0</td>\n",
       "      <td>17591.0</td>\n",
       "      <td>H_002</td>\n",
       "    </tr>\n",
       "    <tr>\n",
       "      <th>S_000040</th>\n",
       "      <td>UP</td>\n",
       "      <td>OU</td>\n",
       "      <td>NaN</td>\n",
       "      <td>17237.0</td>\n",
       "      <td>17238.0</td>\n",
       "      <td>20870.0</td>\n",
       "      <td>17652.0</td>\n",
       "      <td>H_002</td>\n",
       "    </tr>\n",
       "    <tr>\n",
       "      <th>S_000066</th>\n",
       "      <td>EX</td>\n",
       "      <td>HU</td>\n",
       "      <td>NaN</td>\n",
       "      <td>17244.0</td>\n",
       "      <td>17324.0</td>\n",
       "      <td>27661.0</td>\n",
       "      <td>NaN</td>\n",
       "      <td>H_002</td>\n",
       "    </tr>\n",
       "  </tbody>\n",
       "</table>\n",
       "</div>"
      ],
      "text/plain": [
       "            COD_FASE_OPE COD_TIPO_OPE COD_STT_OPE  DAT_INS  DAT_INZ_OPE  \\\n",
       "Contract_ID                                                               \n",
       "S_000001              UP           IU         NaN  17223.0      17226.0   \n",
       "S_000006              EX           HU         NaN  17223.0      17241.0   \n",
       "S_000029              UK           SU         NaN  17233.0      17233.0   \n",
       "S_000040              UP           OU         NaN  17237.0      17238.0   \n",
       "S_000066              EX           HU         NaN  17244.0      17324.0   \n",
       "\n",
       "             DAT_END_OPE_P  DAT_END_OPE Instit_ID  \n",
       "Contract_ID                                        \n",
       "S_000001           17956.0      17866.0     H_002  \n",
       "S_000006           19807.0          NaN     H_002  \n",
       "S_000029           17582.0      17591.0     H_002  \n",
       "S_000040           20870.0      17652.0     H_002  \n",
       "S_000066           27661.0          NaN     H_002  "
      ]
     },
     "execution_count": 3,
     "metadata": {},
     "output_type": "execute_result"
    }
   ],
   "source": [
    "df.head()"
   ]
  },
  {
   "cell_type": "code",
   "execution_count": 4,
   "metadata": {},
   "outputs": [
    {
     "data": {
      "text/plain": [
       "'HU'"
      ]
     },
     "execution_count": 4,
     "metadata": {},
     "output_type": "execute_result"
    }
   ],
   "source": [
    "df.loc['S_000006', 'COD_TIPO_OPE']"
   ]
  },
  {
   "cell_type": "markdown",
   "metadata": {},
   "source": [
    "**Example:** Extract summary statistics from bank/non-bank institutions (H/L prefix in `Instit_ID`)"
   ]
  },
  {
   "cell_type": "code",
   "execution_count": 5,
   "metadata": {},
   "outputs": [
    {
     "data": {
      "text/plain": [
       "array(['H_002', 'H_003', 'H_004', 'H_005', 'H_006', 'H_007', 'H_008',\n",
       "       'H_009', 'H_010', 'H_011', 'H_012', 'H_013', 'H_014', 'H_015',\n",
       "       'H_016', 'H_017', 'H_018', 'H_019', 'H_020', 'H_021', 'H_022',\n",
       "       'L_023', 'L_024', 'L_025', 'L_026', 'L_027', 'L_029', 'L_030',\n",
       "       'L_031', 'L_032', 'L_033', 'L_034', 'L_035', 'L_036', 'L_037',\n",
       "       'L_038', 'L_039', 'L_040', 'L_041', 'L_042', 'L_043'], dtype=object)"
      ]
     },
     "execution_count": 5,
     "metadata": {},
     "output_type": "execute_result"
    }
   ],
   "source": [
    "df['Instit_ID'].unique()"
   ]
  },
  {
   "cell_type": "markdown",
   "metadata": {},
   "source": [
    "### Create columns with a fixed, constant value (derived variables from original data)"
   ]
  },
  {
   "cell_type": "markdown",
   "metadata": {},
   "source": [
    "- Create a column with constant value"
   ]
  },
  {
   "cell_type": "code",
   "execution_count": 6,
   "metadata": {},
   "outputs": [],
   "source": [
    "df['IsBank'] = True"
   ]
  },
  {
   "cell_type": "code",
   "execution_count": 7,
   "metadata": {},
   "outputs": [],
   "source": [
    "# 1. Use pre-built function 'startswith'\n",
    "df['IsBank_v1'] = df['Instit_ID'].str.startswith('H')"
   ]
  },
  {
   "cell_type": "code",
   "execution_count": 8,
   "metadata": {},
   "outputs": [],
   "source": [
    "# 2. Use list comprehension\n",
    "df['IsBank_v2'] = [ c[0]=='H' for c in df['Instit_ID'] ]"
   ]
  },
  {
   "cell_type": "code",
   "execution_count": 9,
   "metadata": {},
   "outputs": [],
   "source": [
    "# 3. Using `apply` and a custom function\n",
    "def is_bank(instit_id):\n",
    "    #Returns True/False from instit_id\n",
    "    return instit_id[0]=='H'\n",
    "\n",
    "df['IsBank_v3'] = df['Instit_ID'].apply(is_bank)"
   ]
  },
  {
   "cell_type": "code",
   "execution_count": 10,
   "metadata": {},
   "outputs": [],
   "source": [
    "# 4. Using `apply` and anonymous functions\n",
    "df['IsBank_v4'] = df['Instit_ID'].apply(lambda inst: inst[0]=='H')"
   ]
  },
  {
   "cell_type": "code",
   "execution_count": 11,
   "metadata": {},
   "outputs": [
    {
     "data": {
      "text/html": [
       "<div>\n",
       "<style scoped>\n",
       "    .dataframe tbody tr th:only-of-type {\n",
       "        vertical-align: middle;\n",
       "    }\n",
       "\n",
       "    .dataframe tbody tr th {\n",
       "        vertical-align: top;\n",
       "    }\n",
       "\n",
       "    .dataframe thead th {\n",
       "        text-align: right;\n",
       "    }\n",
       "</style>\n",
       "<table border=\"1\" class=\"dataframe\">\n",
       "  <thead>\n",
       "    <tr style=\"text-align: right;\">\n",
       "      <th></th>\n",
       "      <th>Instit_ID</th>\n",
       "      <th>IsBank_v1</th>\n",
       "      <th>IsBank_v2</th>\n",
       "      <th>IsBank_v3</th>\n",
       "      <th>IsBank_v4</th>\n",
       "    </tr>\n",
       "    <tr>\n",
       "      <th>Contract_ID</th>\n",
       "      <th></th>\n",
       "      <th></th>\n",
       "      <th></th>\n",
       "      <th></th>\n",
       "      <th></th>\n",
       "    </tr>\n",
       "  </thead>\n",
       "  <tbody>\n",
       "    <tr>\n",
       "      <th>S_000001</th>\n",
       "      <td>H_002</td>\n",
       "      <td>True</td>\n",
       "      <td>True</td>\n",
       "      <td>True</td>\n",
       "      <td>True</td>\n",
       "    </tr>\n",
       "    <tr>\n",
       "      <th>S_000006</th>\n",
       "      <td>H_002</td>\n",
       "      <td>True</td>\n",
       "      <td>True</td>\n",
       "      <td>True</td>\n",
       "      <td>True</td>\n",
       "    </tr>\n",
       "    <tr>\n",
       "      <th>S_000029</th>\n",
       "      <td>H_002</td>\n",
       "      <td>True</td>\n",
       "      <td>True</td>\n",
       "      <td>True</td>\n",
       "      <td>True</td>\n",
       "    </tr>\n",
       "    <tr>\n",
       "      <th>S_000040</th>\n",
       "      <td>H_002</td>\n",
       "      <td>True</td>\n",
       "      <td>True</td>\n",
       "      <td>True</td>\n",
       "      <td>True</td>\n",
       "    </tr>\n",
       "    <tr>\n",
       "      <th>S_000066</th>\n",
       "      <td>H_002</td>\n",
       "      <td>True</td>\n",
       "      <td>True</td>\n",
       "      <td>True</td>\n",
       "      <td>True</td>\n",
       "    </tr>\n",
       "  </tbody>\n",
       "</table>\n",
       "</div>"
      ],
      "text/plain": [
       "            Instit_ID  IsBank_v1  IsBank_v2  IsBank_v3  IsBank_v4\n",
       "Contract_ID                                                      \n",
       "S_000001        H_002       True       True       True       True\n",
       "S_000006        H_002       True       True       True       True\n",
       "S_000029        H_002       True       True       True       True\n",
       "S_000040        H_002       True       True       True       True\n",
       "S_000066        H_002       True       True       True       True"
      ]
     },
     "execution_count": 11,
     "metadata": {},
     "output_type": "execute_result"
    }
   ],
   "source": [
    "df[['Instit_ID', 'IsBank_v1', 'IsBank_v2', 'IsBank_v3', 'IsBank_v4']].head()"
   ]
  },
  {
   "cell_type": "markdown",
   "metadata": {},
   "source": [
    "### Other manipulations to create variables"
   ]
  },
  {
   "cell_type": "code",
   "execution_count": 12,
   "metadata": {},
   "outputs": [],
   "source": [
    "df['End Ratio'] = np.log(df['DAT_END_OPE_P'] / df['DAT_END_OPE'])"
   ]
  },
  {
   "cell_type": "code",
   "execution_count": 13,
   "metadata": {},
   "outputs": [
    {
     "name": "stdout",
     "output_type": "stream",
     "text": [
      "<class 'pandas.core.frame.DataFrame'>\n",
      "Index: 470592 entries, S_000001 to S_470520\n",
      "Data columns (total 14 columns):\n",
      "COD_FASE_OPE     470592 non-null object\n",
      "COD_TIPO_OPE     470592 non-null object\n",
      "COD_STT_OPE      38057 non-null object\n",
      "DAT_INS          470592 non-null float64\n",
      "DAT_INZ_OPE      450655 non-null float64\n",
      "DAT_END_OPE_P    277199 non-null float64\n",
      "DAT_END_OPE      229646 non-null float64\n",
      "Instit_ID        470592 non-null object\n",
      "IsBank           470592 non-null bool\n",
      "IsBank_v1        470592 non-null bool\n",
      "IsBank_v2        470592 non-null bool\n",
      "IsBank_v3        470592 non-null bool\n",
      "IsBank_v4        470592 non-null bool\n",
      "End Ratio        162659 non-null float64\n",
      "dtypes: bool(5), float64(5), object(4)\n",
      "memory usage: 58.1+ MB\n"
     ]
    }
   ],
   "source": [
    "df.info()"
   ]
  },
  {
   "cell_type": "markdown",
   "metadata": {},
   "source": [
    "### Value imputation"
   ]
  },
  {
   "cell_type": "code",
   "execution_count": 14,
   "metadata": {},
   "outputs": [
    {
     "data": {
      "text/plain": [
       "array([nan, 'Q', 'F', 'D', 'Z', 'B', 'X', 'N', 'Y', 'P', 'S', '0', 'U',\n",
       "       'R', 'T', 'J', 'O', 'L', 'M', 'E', 'W'], dtype=object)"
      ]
     },
     "execution_count": 14,
     "metadata": {},
     "output_type": "execute_result"
    }
   ],
   "source": [
    "df['COD_STT_OPE'].unique()"
   ]
  },
  {
   "cell_type": "code",
   "execution_count": 15,
   "metadata": {},
   "outputs": [],
   "source": [
    "df['COD_STT_OPE_Clean'] = df['COD_STT_OPE'].fillna('Unknown') # Creates a new colum with filled in values"
   ]
  },
  {
   "cell_type": "code",
   "execution_count": 16,
   "metadata": {},
   "outputs": [],
   "source": [
    "df['COD_STT_OPE'].fillna('Unknown', inplace=True) # Modifies the existing column"
   ]
  },
  {
   "cell_type": "code",
   "execution_count": 17,
   "metadata": {},
   "outputs": [
    {
     "data": {
      "text/html": [
       "<div>\n",
       "<style scoped>\n",
       "    .dataframe tbody tr th:only-of-type {\n",
       "        vertical-align: middle;\n",
       "    }\n",
       "\n",
       "    .dataframe tbody tr th {\n",
       "        vertical-align: top;\n",
       "    }\n",
       "\n",
       "    .dataframe thead th {\n",
       "        text-align: right;\n",
       "    }\n",
       "</style>\n",
       "<table border=\"1\" class=\"dataframe\">\n",
       "  <thead>\n",
       "    <tr style=\"text-align: right;\">\n",
       "      <th></th>\n",
       "      <th>COD_FASE_OPE</th>\n",
       "      <th>COD_TIPO_OPE</th>\n",
       "      <th>COD_STT_OPE</th>\n",
       "      <th>DAT_INS</th>\n",
       "      <th>DAT_INZ_OPE</th>\n",
       "      <th>DAT_END_OPE_P</th>\n",
       "      <th>DAT_END_OPE</th>\n",
       "      <th>Instit_ID</th>\n",
       "      <th>IsBank</th>\n",
       "      <th>IsBank_v1</th>\n",
       "      <th>IsBank_v2</th>\n",
       "      <th>IsBank_v3</th>\n",
       "      <th>IsBank_v4</th>\n",
       "      <th>End Ratio</th>\n",
       "      <th>COD_STT_OPE_Clean</th>\n",
       "    </tr>\n",
       "    <tr>\n",
       "      <th>Contract_ID</th>\n",
       "      <th></th>\n",
       "      <th></th>\n",
       "      <th></th>\n",
       "      <th></th>\n",
       "      <th></th>\n",
       "      <th></th>\n",
       "      <th></th>\n",
       "      <th></th>\n",
       "      <th></th>\n",
       "      <th></th>\n",
       "      <th></th>\n",
       "      <th></th>\n",
       "      <th></th>\n",
       "      <th></th>\n",
       "      <th></th>\n",
       "    </tr>\n",
       "  </thead>\n",
       "  <tbody>\n",
       "    <tr>\n",
       "      <th>S_000001</th>\n",
       "      <td>UP</td>\n",
       "      <td>IU</td>\n",
       "      <td>Unknown</td>\n",
       "      <td>17223.0</td>\n",
       "      <td>17226.0</td>\n",
       "      <td>17956.0</td>\n",
       "      <td>17866.0</td>\n",
       "      <td>H_002</td>\n",
       "      <td>True</td>\n",
       "      <td>True</td>\n",
       "      <td>True</td>\n",
       "      <td>True</td>\n",
       "      <td>True</td>\n",
       "      <td>0.005025</td>\n",
       "      <td>Unknown</td>\n",
       "    </tr>\n",
       "    <tr>\n",
       "      <th>S_000006</th>\n",
       "      <td>EX</td>\n",
       "      <td>HU</td>\n",
       "      <td>Unknown</td>\n",
       "      <td>17223.0</td>\n",
       "      <td>17241.0</td>\n",
       "      <td>19807.0</td>\n",
       "      <td>NaN</td>\n",
       "      <td>H_002</td>\n",
       "      <td>True</td>\n",
       "      <td>True</td>\n",
       "      <td>True</td>\n",
       "      <td>True</td>\n",
       "      <td>True</td>\n",
       "      <td>NaN</td>\n",
       "      <td>Unknown</td>\n",
       "    </tr>\n",
       "    <tr>\n",
       "      <th>S_000029</th>\n",
       "      <td>UK</td>\n",
       "      <td>SU</td>\n",
       "      <td>Unknown</td>\n",
       "      <td>17233.0</td>\n",
       "      <td>17233.0</td>\n",
       "      <td>17582.0</td>\n",
       "      <td>17591.0</td>\n",
       "      <td>H_002</td>\n",
       "      <td>True</td>\n",
       "      <td>True</td>\n",
       "      <td>True</td>\n",
       "      <td>True</td>\n",
       "      <td>True</td>\n",
       "      <td>-0.000512</td>\n",
       "      <td>Unknown</td>\n",
       "    </tr>\n",
       "    <tr>\n",
       "      <th>S_000040</th>\n",
       "      <td>UP</td>\n",
       "      <td>OU</td>\n",
       "      <td>Unknown</td>\n",
       "      <td>17237.0</td>\n",
       "      <td>17238.0</td>\n",
       "      <td>20870.0</td>\n",
       "      <td>17652.0</td>\n",
       "      <td>H_002</td>\n",
       "      <td>True</td>\n",
       "      <td>True</td>\n",
       "      <td>True</td>\n",
       "      <td>True</td>\n",
       "      <td>True</td>\n",
       "      <td>0.167464</td>\n",
       "      <td>Unknown</td>\n",
       "    </tr>\n",
       "    <tr>\n",
       "      <th>S_000066</th>\n",
       "      <td>EX</td>\n",
       "      <td>HU</td>\n",
       "      <td>Unknown</td>\n",
       "      <td>17244.0</td>\n",
       "      <td>17324.0</td>\n",
       "      <td>27661.0</td>\n",
       "      <td>NaN</td>\n",
       "      <td>H_002</td>\n",
       "      <td>True</td>\n",
       "      <td>True</td>\n",
       "      <td>True</td>\n",
       "      <td>True</td>\n",
       "      <td>True</td>\n",
       "      <td>NaN</td>\n",
       "      <td>Unknown</td>\n",
       "    </tr>\n",
       "  </tbody>\n",
       "</table>\n",
       "</div>"
      ],
      "text/plain": [
       "            COD_FASE_OPE COD_TIPO_OPE COD_STT_OPE  DAT_INS  DAT_INZ_OPE  \\\n",
       "Contract_ID                                                               \n",
       "S_000001              UP           IU     Unknown  17223.0      17226.0   \n",
       "S_000006              EX           HU     Unknown  17223.0      17241.0   \n",
       "S_000029              UK           SU     Unknown  17233.0      17233.0   \n",
       "S_000040              UP           OU     Unknown  17237.0      17238.0   \n",
       "S_000066              EX           HU     Unknown  17244.0      17324.0   \n",
       "\n",
       "             DAT_END_OPE_P  DAT_END_OPE Instit_ID  IsBank  IsBank_v1  \\\n",
       "Contract_ID                                                            \n",
       "S_000001           17956.0      17866.0     H_002    True       True   \n",
       "S_000006           19807.0          NaN     H_002    True       True   \n",
       "S_000029           17582.0      17591.0     H_002    True       True   \n",
       "S_000040           20870.0      17652.0     H_002    True       True   \n",
       "S_000066           27661.0          NaN     H_002    True       True   \n",
       "\n",
       "             IsBank_v2  IsBank_v3  IsBank_v4  End Ratio COD_STT_OPE_Clean  \n",
       "Contract_ID                                                                \n",
       "S_000001          True       True       True   0.005025           Unknown  \n",
       "S_000006          True       True       True        NaN           Unknown  \n",
       "S_000029          True       True       True  -0.000512           Unknown  \n",
       "S_000040          True       True       True   0.167464           Unknown  \n",
       "S_000066          True       True       True        NaN           Unknown  "
      ]
     },
     "execution_count": 17,
     "metadata": {},
     "output_type": "execute_result"
    }
   ],
   "source": [
    "df.head()"
   ]
  },
  {
   "cell_type": "code",
   "execution_count": 18,
   "metadata": {},
   "outputs": [
    {
     "data": {
      "text/plain": [
       "17940.04924536025"
      ]
     },
     "execution_count": 18,
     "metadata": {},
     "output_type": "execute_result"
    }
   ],
   "source": [
    "df['DAT_END_OPE'].mean()"
   ]
  },
  {
   "cell_type": "markdown",
   "metadata": {},
   "source": [
    "### Value imputation by more sophisticated conditions\n",
    "- `fillna` puts the same value everywhere.\n",
    "- Maybe we want to do `fillna` depending on a categorical variable (different values for bank/non-bank)"
   ]
  },
  {
   "cell_type": "markdown",
   "metadata": {},
   "source": [
    "**Plan:**\n",
    "- We need to use `fillna` in *two* different cases, for *two* different values, depending on `IsBank`."
   ]
  },
  {
   "cell_type": "code",
   "execution_count": 19,
   "metadata": {},
   "outputs": [
    {
     "data": {
      "text/plain": [
       "17933.968098288355"
      ]
     },
     "execution_count": 19,
     "metadata": {},
     "output_type": "execute_result"
    }
   ],
   "source": [
    "df[df['IsBank_v1']==True]['DAT_END_OPE'].mean()"
   ]
  },
  {
   "cell_type": "code",
   "execution_count": 20,
   "metadata": {},
   "outputs": [
    {
     "data": {
      "text/plain": [
       "17969.60610932476"
      ]
     },
     "execution_count": 20,
     "metadata": {},
     "output_type": "execute_result"
    }
   ],
   "source": [
    "df[df['IsBank_v1']==False]['DAT_END_OPE'].mean()"
   ]
  },
  {
   "cell_type": "code",
   "execution_count": 26,
   "metadata": {},
   "outputs": [
    {
     "name": "stdout",
     "output_type": "stream",
     "text": [
      "(False, Contract_ID\n",
      "S_000104    18414.0\n",
      "S_000259    18371.0\n",
      "S_000298    18474.0\n",
      "S_000930    18081.0\n",
      "S_000931    18475.0\n",
      "S_001042    18484.0\n",
      "S_001643        NaN\n",
      "S_002197        NaN\n",
      "S_002306        NaN\n",
      "S_002708        NaN\n",
      "S_002718        NaN\n",
      "S_002732        NaN\n",
      "S_002869        NaN\n",
      "S_003047        NaN\n",
      "S_003114        NaN\n",
      "S_003146        NaN\n",
      "S_003263    18232.0\n",
      "S_003289        NaN\n",
      "S_003302    18235.0\n",
      "S_003895    18234.0\n",
      "S_004028        NaN\n",
      "S_004051        NaN\n",
      "S_004354        NaN\n",
      "S_004466    18344.0\n",
      "S_004482        NaN\n",
      "S_004974    18158.0\n",
      "S_005117    18387.0\n",
      "S_005792        NaN\n",
      "S_005914    18266.0\n",
      "S_006035        NaN\n",
      "             ...   \n",
      "S_470299        NaN\n",
      "S_470301        NaN\n",
      "S_470302        NaN\n",
      "S_470303        NaN\n",
      "S_470304        NaN\n",
      "S_470305        NaN\n",
      "S_470306        NaN\n",
      "S_470307        NaN\n",
      "S_470380        NaN\n",
      "S_470381        NaN\n",
      "S_470382        NaN\n",
      "S_470383        NaN\n",
      "S_470384        NaN\n",
      "S_470385        NaN\n",
      "S_470386        NaN\n",
      "S_470387        NaN\n",
      "S_470388        NaN\n",
      "S_470389        NaN\n",
      "S_470390        NaN\n",
      "S_470391        NaN\n",
      "S_470392        NaN\n",
      "S_470393        NaN\n",
      "S_470394        NaN\n",
      "S_470395        NaN\n",
      "S_470396        NaN\n",
      "S_470397        NaN\n",
      "S_470398        NaN\n",
      "S_470399        NaN\n",
      "S_470400        NaN\n",
      "S_470520        NaN\n",
      "Name: DAT_END_OPE, Length: 70731, dtype: float64)\n",
      "****************************************************************************************************\n",
      "(True, Contract_ID\n",
      "S_000001    17866.0\n",
      "S_000006        NaN\n",
      "S_000029    17591.0\n",
      "S_000040    17652.0\n",
      "S_000066        NaN\n",
      "S_000082        NaN\n",
      "S_000088        NaN\n",
      "S_000099    17775.0\n",
      "S_000102    18596.0\n",
      "S_000106        NaN\n",
      "S_000113        NaN\n",
      "S_000124    18658.0\n",
      "S_000185    17652.0\n",
      "S_000196        NaN\n",
      "S_000197        NaN\n",
      "S_000198    17622.0\n",
      "S_000204    18413.0\n",
      "S_000207    17956.0\n",
      "S_000209        NaN\n",
      "S_000210    18170.0\n",
      "S_000211        NaN\n",
      "S_000317        NaN\n",
      "S_000320    17500.0\n",
      "S_000321    17286.0\n",
      "S_000322        NaN\n",
      "S_000323    17805.0\n",
      "S_000324    18321.0\n",
      "S_000325    17866.0\n",
      "S_000326        NaN\n",
      "S_000327    17286.0\n",
      "             ...   \n",
      "S_470195        NaN\n",
      "S_470208        NaN\n",
      "S_470438        NaN\n",
      "S_470569        NaN\n",
      "S_032670        NaN\n",
      "S_033100        NaN\n",
      "S_133877        NaN\n",
      "S_149199        NaN\n",
      "S_159734        NaN\n",
      "S_219726        NaN\n",
      "S_220684        NaN\n",
      "S_235000        NaN\n",
      "S_258017        NaN\n",
      "S_258284        NaN\n",
      "S_373184        NaN\n",
      "S_470574        NaN\n",
      "S_470575        NaN\n",
      "S_470577        NaN\n",
      "S_470578        NaN\n",
      "S_470579        NaN\n",
      "S_470580        NaN\n",
      "S_470581        NaN\n",
      "S_470583        NaN\n",
      "S_470585        NaN\n",
      "S_470586        NaN\n",
      "S_470587        NaN\n",
      "S_470589        NaN\n",
      "S_470590        NaN\n",
      "S_470591        NaN\n",
      "S_470592        NaN\n",
      "Name: DAT_END_OPE, Length: 399861, dtype: float64)\n",
      "****************************************************************************************************\n"
     ]
    }
   ],
   "source": [
    "for grp in df.groupby('IsBank_v1')['DAT_END_OPE']:\n",
    "    print(grp)\n",
    "    print('*'*100)"
   ]
  },
  {
   "cell_type": "code",
   "execution_count": 33,
   "metadata": {},
   "outputs": [],
   "source": [
    "groups = df.groupby(['COD_TIPO_OPE', 'IsBank_v1'])['DAT_END_OPE']\n",
    "df['DAT_END_OPE_Clean'] = groups.apply(lambda grp: grp.fillna(grp.mean()))"
   ]
  },
  {
   "cell_type": "code",
   "execution_count": 37,
   "metadata": {},
   "outputs": [],
   "source": [
    "df.drop(columns=['DAT_END_OPE_P', 'DAT_END_OPE', 'End Ratio'], inplace=True)"
   ]
  },
  {
   "cell_type": "code",
   "execution_count": 39,
   "metadata": {},
   "outputs": [],
   "source": [
    "df.dropna(inplace=True)"
   ]
  },
  {
   "cell_type": "code",
   "execution_count": 40,
   "metadata": {},
   "outputs": [
    {
     "name": "stdout",
     "output_type": "stream",
     "text": [
      "<class 'pandas.core.frame.DataFrame'>\n",
      "Index: 447694 entries, S_000001 to S_470400\n",
      "Data columns (total 13 columns):\n",
      "COD_FASE_OPE         447694 non-null object\n",
      "COD_TIPO_OPE         447694 non-null object\n",
      "COD_STT_OPE          447694 non-null object\n",
      "DAT_INS              447694 non-null float64\n",
      "DAT_INZ_OPE          447694 non-null float64\n",
      "Instit_ID            447694 non-null object\n",
      "IsBank               447694 non-null bool\n",
      "IsBank_v1            447694 non-null bool\n",
      "IsBank_v2            447694 non-null bool\n",
      "IsBank_v3            447694 non-null bool\n",
      "IsBank_v4            447694 non-null bool\n",
      "COD_STT_OPE_Clean    447694 non-null object\n",
      "DAT_END_OPE_Clean    447694 non-null float64\n",
      "dtypes: bool(5), float64(3), object(5)\n",
      "memory usage: 32.9+ MB\n"
     ]
    }
   ],
   "source": [
    "df.info()"
   ]
  },
  {
   "cell_type": "code",
   "execution_count": 43,
   "metadata": {},
   "outputs": [
    {
     "data": {
      "text/plain": [
       "Contract_ID\n",
       "S_000001    17223.0\n",
       "S_000006    17223.0\n",
       "S_000029    17233.0\n",
       "S_000040    17237.0\n",
       "S_000066    17244.0\n",
       "Name: DAT_INS, dtype: float64"
      ]
     },
     "execution_count": 43,
     "metadata": {},
     "output_type": "execute_result"
    }
   ],
   "source": [
    "df['DAT_INS'].head()"
   ]
  },
  {
   "cell_type": "code",
   "execution_count": 47,
   "metadata": {},
   "outputs": [],
   "source": [
    "df['DAT_INS_Date'] = pd.to_datetime(df['DAT_INS'], unit='D', origin='1960-01-01') #default origin 1970"
   ]
  },
  {
   "cell_type": "code",
   "execution_count": 48,
   "metadata": {},
   "outputs": [
    {
     "data": {
      "text/plain": [
       "Contract_ID\n",
       "S_000001   2007-02-26\n",
       "S_000006   2007-02-26\n",
       "S_000029   2007-03-08\n",
       "S_000040   2007-03-12\n",
       "S_000066   2007-03-19\n",
       "S_000082   2007-03-22\n",
       "S_000088   2007-03-26\n",
       "S_000099   2007-03-28\n",
       "S_000102   2007-03-29\n",
       "S_000106   2007-03-30\n",
       "S_000113   2007-04-02\n",
       "S_000124   2007-04-03\n",
       "S_000185   2007-04-10\n",
       "S_000196   2007-04-11\n",
       "S_000197   2007-04-11\n",
       "S_000198   2007-04-11\n",
       "S_000204   2007-04-13\n",
       "S_000207   2007-04-13\n",
       "S_000209   2007-04-13\n",
       "S_000210   2007-04-13\n",
       "S_000211   2007-04-13\n",
       "S_000317   2007-04-19\n",
       "S_000320   2007-04-19\n",
       "S_000321   2007-04-19\n",
       "S_000322   2007-04-19\n",
       "S_000323   2007-04-19\n",
       "S_000324   2007-04-19\n",
       "S_000325   2007-04-19\n",
       "S_000326   2007-04-19\n",
       "S_000327   2007-04-19\n",
       "              ...    \n",
       "S_469948   2010-11-12\n",
       "S_469949   2010-11-12\n",
       "S_469950   2010-11-12\n",
       "S_470297   2010-12-14\n",
       "S_470299   2010-12-14\n",
       "S_470301   2010-12-14\n",
       "S_470302   2010-12-14\n",
       "S_470303   2010-12-14\n",
       "S_470304   2010-12-14\n",
       "S_470305   2010-12-14\n",
       "S_470306   2010-12-14\n",
       "S_470307   2010-12-14\n",
       "S_470380   2011-01-12\n",
       "S_470381   2011-01-12\n",
       "S_470382   2011-01-12\n",
       "S_470383   2011-01-12\n",
       "S_470384   2011-01-12\n",
       "S_470385   2011-01-12\n",
       "S_470386   2011-01-12\n",
       "S_470387   2011-01-12\n",
       "S_470389   2011-01-12\n",
       "S_470390   2011-01-12\n",
       "S_470391   2011-01-12\n",
       "S_470393   2011-01-12\n",
       "S_470394   2011-01-12\n",
       "S_470395   2011-01-12\n",
       "S_470396   2011-01-12\n",
       "S_470397   2011-01-12\n",
       "S_470399   2011-01-12\n",
       "S_470400   2011-01-12\n",
       "Name: DAT_INS_Date, Length: 447694, dtype: datetime64[ns]"
      ]
     },
     "execution_count": 48,
     "metadata": {},
     "output_type": "execute_result"
    }
   ],
   "source": [
    "df['DAT_INS_Date']"
   ]
  },
  {
   "cell_type": "code",
   "execution_count": null,
   "metadata": {},
   "outputs": [],
   "source": []
  }
 ],
 "metadata": {
  "kernelspec": {
   "display_name": "Python 3",
   "language": "python",
   "name": "python3"
  },
  "language_info": {
   "codemirror_mode": {
    "name": "ipython",
    "version": 3
   },
   "file_extension": ".py",
   "mimetype": "text/x-python",
   "name": "python",
   "nbconvert_exporter": "python",
   "pygments_lexer": "ipython3",
   "version": "3.6.4"
  }
 },
 "nbformat": 4,
 "nbformat_minor": 2
}
