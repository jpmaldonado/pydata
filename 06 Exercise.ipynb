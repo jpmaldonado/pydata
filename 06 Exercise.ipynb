{
 "cells": [
  {
   "cell_type": "code",
   "execution_count": 1,
   "metadata": {},
   "outputs": [],
   "source": [
    "import pandas as pd\n",
    "import numpy as np"
   ]
  },
  {
   "cell_type": "code",
   "execution_count": 3,
   "metadata": {},
   "outputs": [],
   "source": [
    "clients = pd.read_sas(\"./data/anagrf_srs_an.sas7bdat\", encoding='unicode_escape')"
   ]
  },
  {
   "cell_type": "code",
   "execution_count": 4,
   "metadata": {},
   "outputs": [],
   "source": [
    "contracts = pd.read_sas('./data/cntrct_srs_an.sas7bdat', encoding='unicode_escape')"
   ]
  },
  {
   "cell_type": "markdown",
   "metadata": {},
   "source": [
    "## Exercise:  Demographics and delays in closing contracts\n",
    "\n",
    "Our goal is to investigate if delays in closing the contract (gap between `'DAT_END_OPE_P'` and `'DAT_END_OPE'`) is connected to client demographics (age/gender).\n",
    "\n",
    "- Produce a summary table of gender, age and difference between expected and actual closing date.\n",
    "- Has this gap shortened or grown larger? Is there some seasonality?  (Hint: use `DAT_INS` as reference).\n",
    "\n"
   ]
  },
  {
   "cell_type": "code",
   "execution_count": 11,
   "metadata": {},
   "outputs": [],
   "source": [
    "def age_parser(age):\n",
    "    age_dict = {2:'Milennial', 3:'Young', 4:'Still young'}\n",
    "    return age_dict[int(age/10)]"
   ]
  },
  {
   "cell_type": "code",
   "execution_count": 12,
   "metadata": {},
   "outputs": [
    {
     "data": {
      "text/plain": [
       "'Young'"
      ]
     },
     "execution_count": 12,
     "metadata": {},
     "output_type": "execute_result"
    }
   ],
   "source": [
    "age_parser(39.5)"
   ]
  },
  {
   "cell_type": "code",
   "execution_count": 19,
   "metadata": {},
   "outputs": [
    {
     "data": {
      "text/plain": [
       "0        1980-12-21\n",
       "1        1986-12-29\n",
       "2        1968-01-27\n",
       "3        1982-10-22\n",
       "4        1984-10-19\n",
       "5        1966-08-27\n",
       "6        1964-03-14\n",
       "7        1949-04-17\n",
       "8        1946-05-13\n",
       "9        1967-07-22\n",
       "10       1984-05-26\n",
       "11       1985-06-16\n",
       "12       1946-05-24\n",
       "13       1967-08-25\n",
       "14       1975-07-02\n",
       "15       1987-02-05\n",
       "16       1979-05-22\n",
       "17       1987-05-28\n",
       "18       1980-06-12\n",
       "19       1978-06-14\n",
       "20       1946-09-06\n",
       "21       1976-02-26\n",
       "22       1983-09-30\n",
       "23       1945-05-26\n",
       "24       1944-06-16\n",
       "25       1973-08-17\n",
       "26       1974-08-25\n",
       "27       1982-01-27\n",
       "28       1983-09-03\n",
       "29       1965-01-18\n",
       "            ...    \n",
       "99970    1986-09-22\n",
       "99971    1988-06-01\n",
       "99972    1990-06-28\n",
       "99973    1952-01-21\n",
       "99974    1984-03-28\n",
       "99975    1975-02-03\n",
       "99976    1990-02-18\n",
       "99977    1949-11-30\n",
       "99978    1979-07-10\n",
       "99979    1978-05-07\n",
       "99980    1981-08-14\n",
       "99981    1951-09-03\n",
       "99982    1985-11-17\n",
       "99983    1974-02-06\n",
       "99984    1954-01-05\n",
       "99985    1977-12-30\n",
       "99986    1982-07-14\n",
       "99987    1948-03-26\n",
       "99988    1977-01-21\n",
       "99989    1962-02-11\n",
       "99990    1988-03-07\n",
       "99991    1967-05-12\n",
       "99992    1984-06-29\n",
       "99993    1980-09-26\n",
       "99994    1992-05-20\n",
       "99995    1949-06-02\n",
       "99996    1960-08-04\n",
       "99997    1972-12-28\n",
       "99998    1967-12-28\n",
       "99999    1979-12-21\n",
       "Name: DAT_NSC, Length: 100000, dtype: object"
      ]
     },
     "execution_count": 19,
     "metadata": {},
     "output_type": "execute_result"
    }
   ],
   "source": [
    "clients['DAT_NSC'].astype(int)"
   ]
  },
  {
   "cell_type": "code",
   "execution_count": null,
   "metadata": {},
   "outputs": [],
   "source": []
  }
 ],
 "metadata": {
  "kernelspec": {
   "display_name": "Python 3",
   "language": "python",
   "name": "python3"
  },
  "language_info": {
   "codemirror_mode": {
    "name": "ipython",
    "version": 3
   },
   "file_extension": ".py",
   "mimetype": "text/x-python",
   "name": "python",
   "nbconvert_exporter": "python",
   "pygments_lexer": "ipython3",
   "version": "3.6.4"
  }
 },
 "nbformat": 4,
 "nbformat_minor": 2
}
