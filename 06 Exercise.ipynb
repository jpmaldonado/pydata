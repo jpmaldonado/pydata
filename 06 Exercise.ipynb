{
 "cells": [
  {
   "cell_type": "code",
   "execution_count": 1,
   "metadata": {},
   "outputs": [],
   "source": [
    "import pandas as pd\n",
    "import numpy as np"
   ]
  },
  {
   "cell_type": "code",
   "execution_count": 3,
   "metadata": {},
   "outputs": [],
   "source": [
    "clients = pd.read_sas(\"./data/anagrf_srs_an.sas7bdat\", encoding='unicode_escape')"
   ]
  },
  {
   "cell_type": "code",
   "execution_count": 4,
   "metadata": {},
   "outputs": [],
   "source": [
    "contracts = pd.read_sas('./data/cntrct_srs_an.sas7bdat', encoding='unicode_escape')"
   ]
  },
  {
   "cell_type": "markdown",
   "metadata": {},
   "source": [
    "## Exercise:  Demographics and delays in closed contracts\n",
    "\n",
    "Our goal is to investigate if delays in closing the contract (gap between `'DAT_END_OPE_P'` and `'DAT_END_OPE'`) is connected to client demographics (age/gender).\n",
    "\n",
    "- Produce a summary table of gender, age and difference between expected and actual closing date.\n",
    "- Has this gap shortened or grown larger? Is there some seasonality?  (Hint: use `DAT_INS` as reference).\n",
    "\n"
   ]
  }
 ],
 "metadata": {
  "kernelspec": {
   "display_name": "Python 3",
   "language": "python",
   "name": "python3"
  },
  "language_info": {
   "codemirror_mode": {
    "name": "ipython",
    "version": 3
   },
   "file_extension": ".py",
   "mimetype": "text/x-python",
   "name": "python",
   "nbconvert_exporter": "python",
   "pygments_lexer": "ipython3",
   "version": "3.6.4"
  }
 },
 "nbformat": 4,
 "nbformat_minor": 2
}
