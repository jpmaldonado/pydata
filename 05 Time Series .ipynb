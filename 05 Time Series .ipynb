{
 "cells": [
  {
   "cell_type": "code",
   "execution_count": 1,
   "metadata": {},
   "outputs": [],
   "source": [
    "import pandas as pd\n",
    "import numpy as np\n",
    "%matplotlib inline"
   ]
  },
  {
   "cell_type": "code",
   "execution_count": 2,
   "metadata": {},
   "outputs": [
    {
     "data": {
      "text/plain": [
       "'0.24.2'"
      ]
     },
     "execution_count": 2,
     "metadata": {},
     "output_type": "execute_result"
    }
   ],
   "source": [
    "pd.__version__"
   ]
  },
  {
   "cell_type": "code",
   "execution_count": 3,
   "metadata": {},
   "outputs": [
    {
     "data": {
      "text/plain": [
       "'1.17.2'"
      ]
     },
     "execution_count": 3,
     "metadata": {},
     "output_type": "execute_result"
    }
   ],
   "source": [
    "np.__version__"
   ]
  },
  {
   "cell_type": "markdown",
   "metadata": {},
   "source": [
    "## to_datetime"
   ]
  },
  {
   "cell_type": "code",
   "execution_count": 12,
   "metadata": {},
   "outputs": [
    {
     "data": {
      "text/plain": [
       "Timestamp('1993-10-19 00:00:00')"
      ]
     },
     "execution_count": 12,
     "metadata": {},
     "output_type": "execute_result"
    }
   ],
   "source": [
    "pd.to_datetime(12345, unit='D', origin='1960-01-01')"
   ]
  },
  {
   "cell_type": "code",
   "execution_count": 17,
   "metadata": {},
   "outputs": [
    {
     "data": {
      "text/plain": [
       "Timestamp('2019-12-13 00:00:00')"
      ]
     },
     "execution_count": 17,
     "metadata": {},
     "output_type": "execute_result"
    }
   ],
   "source": [
    "pd.to_datetime('2019-13-12', format='%Y-%d-%m') # December 13th, 2019"
   ]
  },
  {
   "cell_type": "code",
   "execution_count": 19,
   "metadata": {},
   "outputs": [],
   "source": [
    "date = pd.to_datetime('December 13th, 2019')"
   ]
  },
  {
   "cell_type": "code",
   "execution_count": 20,
   "metadata": {},
   "outputs": [
    {
     "data": {
      "text/plain": [
       "Timestamp('2019-12-13 00:00:00')"
      ]
     },
     "execution_count": 20,
     "metadata": {},
     "output_type": "execute_result"
    }
   ],
   "source": [
    "date"
   ]
  },
  {
   "cell_type": "code",
   "execution_count": 22,
   "metadata": {},
   "outputs": [
    {
     "data": {
      "text/plain": [
       "'201912'"
      ]
     },
     "execution_count": 22,
     "metadata": {},
     "output_type": "execute_result"
    }
   ],
   "source": [
    "date.strftime('%Y%m') # Extract the date back into a string"
   ]
  },
  {
   "cell_type": "code",
   "execution_count": 23,
   "metadata": {},
   "outputs": [],
   "source": [
    " clients = pd.read_sas('./data/anagrf_srs_an.sas7bdat', encoding='unicode_escape')"
   ]
  },
  {
   "cell_type": "code",
   "execution_count": 24,
   "metadata": {},
   "outputs": [
    {
     "data": {
      "text/html": [
       "<div>\n",
       "<style scoped>\n",
       "    .dataframe tbody tr th:only-of-type {\n",
       "        vertical-align: middle;\n",
       "    }\n",
       "\n",
       "    .dataframe tbody tr th {\n",
       "        vertical-align: top;\n",
       "    }\n",
       "\n",
       "    .dataframe thead th {\n",
       "        text-align: right;\n",
       "    }\n",
       "</style>\n",
       "<table border=\"1\" class=\"dataframe\">\n",
       "  <thead>\n",
       "    <tr style=\"text-align: right;\">\n",
       "      <th></th>\n",
       "      <th>SEX</th>\n",
       "      <th>TIPO_FINZ_GARN</th>\n",
       "      <th>DAT_NSC</th>\n",
       "      <th>Klient_ID</th>\n",
       "    </tr>\n",
       "  </thead>\n",
       "  <tbody>\n",
       "    <tr>\n",
       "      <th>0</th>\n",
       "      <td>M</td>\n",
       "      <td>1</td>\n",
       "      <td>1980-12-21</td>\n",
       "      <td>K_000001</td>\n",
       "    </tr>\n",
       "    <tr>\n",
       "      <th>1</th>\n",
       "      <td>Z</td>\n",
       "      <td>1</td>\n",
       "      <td>1986-12-29</td>\n",
       "      <td>K_000002</td>\n",
       "    </tr>\n",
       "    <tr>\n",
       "      <th>2</th>\n",
       "      <td>Z</td>\n",
       "      <td>2</td>\n",
       "      <td>1968-01-27</td>\n",
       "      <td>K_000003</td>\n",
       "    </tr>\n",
       "    <tr>\n",
       "      <th>3</th>\n",
       "      <td>Z</td>\n",
       "      <td>1</td>\n",
       "      <td>1982-10-22</td>\n",
       "      <td>K_000004</td>\n",
       "    </tr>\n",
       "    <tr>\n",
       "      <th>4</th>\n",
       "      <td>M</td>\n",
       "      <td>1</td>\n",
       "      <td>1984-10-19</td>\n",
       "      <td>K_000005</td>\n",
       "    </tr>\n",
       "  </tbody>\n",
       "</table>\n",
       "</div>"
      ],
      "text/plain": [
       "  SEX TIPO_FINZ_GARN    DAT_NSC Klient_ID\n",
       "0   M              1 1980-12-21  K_000001\n",
       "1   Z              1 1986-12-29  K_000002\n",
       "2   Z              2 1968-01-27  K_000003\n",
       "3   Z              1 1982-10-22  K_000004\n",
       "4   M              1 1984-10-19  K_000005"
      ]
     },
     "execution_count": 24,
     "metadata": {},
     "output_type": "execute_result"
    }
   ],
   "source": [
    "clients.head()"
   ]
  },
  {
   "cell_type": "code",
   "execution_count": 25,
   "metadata": {},
   "outputs": [
    {
     "name": "stdout",
     "output_type": "stream",
     "text": [
      "<class 'pandas.core.frame.DataFrame'>\n",
      "RangeIndex: 100000 entries, 0 to 99999\n",
      "Data columns (total 4 columns):\n",
      "SEX               100000 non-null object\n",
      "TIPO_FINZ_GARN    100000 non-null object\n",
      "DAT_NSC           100000 non-null datetime64[ns]\n",
      "Klient_ID         100000 non-null object\n",
      "dtypes: datetime64[ns](1), object(3)\n",
      "memory usage: 3.1+ MB\n"
     ]
    }
   ],
   "source": [
    "clients.info()"
   ]
  },
  {
   "cell_type": "code",
   "execution_count": 26,
   "metadata": {},
   "outputs": [],
   "source": [
    "today = '2019-12-12'"
   ]
  },
  {
   "cell_type": "code",
   "execution_count": 29,
   "metadata": {},
   "outputs": [
    {
     "data": {
      "text/plain": [
       "Timestamp('2019-12-13 00:00:00')"
      ]
     },
     "execution_count": 29,
     "metadata": {},
     "output_type": "execute_result"
    }
   ],
   "source": [
    "date"
   ]
  },
  {
   "cell_type": "code",
   "execution_count": 36,
   "metadata": {},
   "outputs": [
    {
     "data": {
      "text/plain": [
       "<bound method Timestamp.month_name of Timestamp('2019-12-13 00:00:00')>"
      ]
     },
     "execution_count": 36,
     "metadata": {},
     "output_type": "execute_result"
    }
   ],
   "source": [
    "date.month_name"
   ]
  },
  {
   "cell_type": "code",
   "execution_count": 37,
   "metadata": {},
   "outputs": [],
   "source": [
    "today = pd.to_datetime('2019-12-12')"
   ]
  },
  {
   "cell_type": "code",
   "execution_count": 38,
   "metadata": {},
   "outputs": [
    {
     "data": {
      "text/plain": [
       "Timestamp('2019-12-12 00:00:00')"
      ]
     },
     "execution_count": 38,
     "metadata": {},
     "output_type": "execute_result"
    }
   ],
   "source": [
    "today"
   ]
  },
  {
   "cell_type": "code",
   "execution_count": 39,
   "metadata": {},
   "outputs": [
    {
     "data": {
      "text/plain": [
       "Timestamp('2019-12-13 00:00:00')"
      ]
     },
     "execution_count": 39,
     "metadata": {},
     "output_type": "execute_result"
    }
   ],
   "source": [
    "date"
   ]
  },
  {
   "cell_type": "code",
   "execution_count": 41,
   "metadata": {},
   "outputs": [],
   "source": [
    "diff = date-today"
   ]
  },
  {
   "cell_type": "code",
   "execution_count": 48,
   "metadata": {},
   "outputs": [
    {
     "data": {
      "text/plain": [
       "86400.0"
      ]
     },
     "execution_count": 48,
     "metadata": {},
     "output_type": "execute_result"
    }
   ],
   "source": [
    "diff.total_seconds()"
   ]
  },
  {
   "cell_type": "code",
   "execution_count": 50,
   "metadata": {},
   "outputs": [],
   "source": [
    "clients['Age'] = (today-clients['DAT_NSC'])"
   ]
  },
  {
   "cell_type": "code",
   "execution_count": 52,
   "metadata": {},
   "outputs": [],
   "source": [
    "clients['Age'] = clients['Age'].apply(lambda date: date.days/365)"
   ]
  },
  {
   "cell_type": "code",
   "execution_count": 53,
   "metadata": {},
   "outputs": [
    {
     "data": {
      "text/html": [
       "<div>\n",
       "<style scoped>\n",
       "    .dataframe tbody tr th:only-of-type {\n",
       "        vertical-align: middle;\n",
       "    }\n",
       "\n",
       "    .dataframe tbody tr th {\n",
       "        vertical-align: top;\n",
       "    }\n",
       "\n",
       "    .dataframe thead th {\n",
       "        text-align: right;\n",
       "    }\n",
       "</style>\n",
       "<table border=\"1\" class=\"dataframe\">\n",
       "  <thead>\n",
       "    <tr style=\"text-align: right;\">\n",
       "      <th></th>\n",
       "      <th>SEX</th>\n",
       "      <th>TIPO_FINZ_GARN</th>\n",
       "      <th>DAT_NSC</th>\n",
       "      <th>Klient_ID</th>\n",
       "      <th>Age</th>\n",
       "    </tr>\n",
       "  </thead>\n",
       "  <tbody>\n",
       "    <tr>\n",
       "      <th>0</th>\n",
       "      <td>M</td>\n",
       "      <td>1</td>\n",
       "      <td>1980-12-21</td>\n",
       "      <td>K_000001</td>\n",
       "      <td>39.000000</td>\n",
       "    </tr>\n",
       "    <tr>\n",
       "      <th>1</th>\n",
       "      <td>Z</td>\n",
       "      <td>1</td>\n",
       "      <td>1986-12-29</td>\n",
       "      <td>K_000002</td>\n",
       "      <td>32.975342</td>\n",
       "    </tr>\n",
       "    <tr>\n",
       "      <th>2</th>\n",
       "      <td>Z</td>\n",
       "      <td>2</td>\n",
       "      <td>1968-01-27</td>\n",
       "      <td>K_000003</td>\n",
       "      <td>51.909589</td>\n",
       "    </tr>\n",
       "    <tr>\n",
       "      <th>3</th>\n",
       "      <td>Z</td>\n",
       "      <td>1</td>\n",
       "      <td>1982-10-22</td>\n",
       "      <td>K_000004</td>\n",
       "      <td>37.164384</td>\n",
       "    </tr>\n",
       "    <tr>\n",
       "      <th>4</th>\n",
       "      <td>M</td>\n",
       "      <td>1</td>\n",
       "      <td>1984-10-19</td>\n",
       "      <td>K_000005</td>\n",
       "      <td>35.169863</td>\n",
       "    </tr>\n",
       "  </tbody>\n",
       "</table>\n",
       "</div>"
      ],
      "text/plain": [
       "  SEX TIPO_FINZ_GARN    DAT_NSC Klient_ID        Age\n",
       "0   M              1 1980-12-21  K_000001  39.000000\n",
       "1   Z              1 1986-12-29  K_000002  32.975342\n",
       "2   Z              2 1968-01-27  K_000003  51.909589\n",
       "3   Z              1 1982-10-22  K_000004  37.164384\n",
       "4   M              1 1984-10-19  K_000005  35.169863"
      ]
     },
     "execution_count": 53,
     "metadata": {},
     "output_type": "execute_result"
    }
   ],
   "source": [
    "clients.head()"
   ]
  },
  {
   "cell_type": "markdown",
   "metadata": {},
   "source": [
    "## Date Time as index"
   ]
  },
  {
   "cell_type": "code",
   "execution_count": 54,
   "metadata": {},
   "outputs": [
    {
     "data": {
      "text/plain": [
       "RangeIndex(start=0, stop=100000, step=1)"
      ]
     },
     "execution_count": 54,
     "metadata": {},
     "output_type": "execute_result"
    }
   ],
   "source": [
    "clients.index "
   ]
  },
  {
   "cell_type": "code",
   "execution_count": 55,
   "metadata": {},
   "outputs": [],
   "source": [
    "clients.index = clients['DAT_NSC']"
   ]
  },
  {
   "cell_type": "code",
   "execution_count": 57,
   "metadata": {},
   "outputs": [
    {
     "data": {
      "text/html": [
       "<div>\n",
       "<style scoped>\n",
       "    .dataframe tbody tr th:only-of-type {\n",
       "        vertical-align: middle;\n",
       "    }\n",
       "\n",
       "    .dataframe tbody tr th {\n",
       "        vertical-align: top;\n",
       "    }\n",
       "\n",
       "    .dataframe thead th {\n",
       "        text-align: right;\n",
       "    }\n",
       "</style>\n",
       "<table border=\"1\" class=\"dataframe\">\n",
       "  <thead>\n",
       "    <tr style=\"text-align: right;\">\n",
       "      <th></th>\n",
       "      <th>SEX</th>\n",
       "      <th>TIPO_FINZ_GARN</th>\n",
       "      <th>DAT_NSC</th>\n",
       "      <th>Klient_ID</th>\n",
       "      <th>Age</th>\n",
       "    </tr>\n",
       "    <tr>\n",
       "      <th>DAT_NSC</th>\n",
       "      <th></th>\n",
       "      <th></th>\n",
       "      <th></th>\n",
       "      <th></th>\n",
       "      <th></th>\n",
       "    </tr>\n",
       "  </thead>\n",
       "  <tbody>\n",
       "    <tr>\n",
       "      <th>1980-12-21</th>\n",
       "      <td>M</td>\n",
       "      <td>1</td>\n",
       "      <td>1980-12-21</td>\n",
       "      <td>K_000001</td>\n",
       "      <td>39.000000</td>\n",
       "    </tr>\n",
       "    <tr>\n",
       "      <th>1986-12-29</th>\n",
       "      <td>Z</td>\n",
       "      <td>1</td>\n",
       "      <td>1986-12-29</td>\n",
       "      <td>K_000002</td>\n",
       "      <td>32.975342</td>\n",
       "    </tr>\n",
       "    <tr>\n",
       "      <th>1968-01-27</th>\n",
       "      <td>Z</td>\n",
       "      <td>2</td>\n",
       "      <td>1968-01-27</td>\n",
       "      <td>K_000003</td>\n",
       "      <td>51.909589</td>\n",
       "    </tr>\n",
       "    <tr>\n",
       "      <th>1982-10-22</th>\n",
       "      <td>Z</td>\n",
       "      <td>1</td>\n",
       "      <td>1982-10-22</td>\n",
       "      <td>K_000004</td>\n",
       "      <td>37.164384</td>\n",
       "    </tr>\n",
       "    <tr>\n",
       "      <th>1984-10-19</th>\n",
       "      <td>M</td>\n",
       "      <td>1</td>\n",
       "      <td>1984-10-19</td>\n",
       "      <td>K_000005</td>\n",
       "      <td>35.169863</td>\n",
       "    </tr>\n",
       "  </tbody>\n",
       "</table>\n",
       "</div>"
      ],
      "text/plain": [
       "           SEX TIPO_FINZ_GARN    DAT_NSC Klient_ID        Age\n",
       "DAT_NSC                                                      \n",
       "1980-12-21   M              1 1980-12-21  K_000001  39.000000\n",
       "1986-12-29   Z              1 1986-12-29  K_000002  32.975342\n",
       "1968-01-27   Z              2 1968-01-27  K_000003  51.909589\n",
       "1982-10-22   Z              1 1982-10-22  K_000004  37.164384\n",
       "1984-10-19   M              1 1984-10-19  K_000005  35.169863"
      ]
     },
     "execution_count": 57,
     "metadata": {},
     "output_type": "execute_result"
    }
   ],
   "source": [
    "clients.head()"
   ]
  },
  {
   "cell_type": "code",
   "execution_count": 59,
   "metadata": {},
   "outputs": [
    {
     "data": {
      "text/html": [
       "<div>\n",
       "<style scoped>\n",
       "    .dataframe tbody tr th:only-of-type {\n",
       "        vertical-align: middle;\n",
       "    }\n",
       "\n",
       "    .dataframe tbody tr th {\n",
       "        vertical-align: top;\n",
       "    }\n",
       "\n",
       "    .dataframe thead th {\n",
       "        text-align: right;\n",
       "    }\n",
       "</style>\n",
       "<table border=\"1\" class=\"dataframe\">\n",
       "  <thead>\n",
       "    <tr style=\"text-align: right;\">\n",
       "      <th></th>\n",
       "      <th>SEX</th>\n",
       "      <th>TIPO_FINZ_GARN</th>\n",
       "      <th>Klient_ID</th>\n",
       "      <th>Age</th>\n",
       "    </tr>\n",
       "    <tr>\n",
       "      <th>DAT_NSC</th>\n",
       "      <th></th>\n",
       "      <th></th>\n",
       "      <th></th>\n",
       "      <th></th>\n",
       "    </tr>\n",
       "  </thead>\n",
       "  <tbody>\n",
       "    <tr>\n",
       "      <th>1980-12-21</th>\n",
       "      <td>M</td>\n",
       "      <td>1</td>\n",
       "      <td>K_000001</td>\n",
       "      <td>39.000000</td>\n",
       "    </tr>\n",
       "    <tr>\n",
       "      <th>1986-12-29</th>\n",
       "      <td>Z</td>\n",
       "      <td>1</td>\n",
       "      <td>K_000002</td>\n",
       "      <td>32.975342</td>\n",
       "    </tr>\n",
       "    <tr>\n",
       "      <th>1968-01-27</th>\n",
       "      <td>Z</td>\n",
       "      <td>2</td>\n",
       "      <td>K_000003</td>\n",
       "      <td>51.909589</td>\n",
       "    </tr>\n",
       "    <tr>\n",
       "      <th>1982-10-22</th>\n",
       "      <td>Z</td>\n",
       "      <td>1</td>\n",
       "      <td>K_000004</td>\n",
       "      <td>37.164384</td>\n",
       "    </tr>\n",
       "    <tr>\n",
       "      <th>1984-10-19</th>\n",
       "      <td>M</td>\n",
       "      <td>1</td>\n",
       "      <td>K_000005</td>\n",
       "      <td>35.169863</td>\n",
       "    </tr>\n",
       "  </tbody>\n",
       "</table>\n",
       "</div>"
      ],
      "text/plain": [
       "           SEX TIPO_FINZ_GARN Klient_ID        Age\n",
       "DAT_NSC                                           \n",
       "1980-12-21   M              1  K_000001  39.000000\n",
       "1986-12-29   Z              1  K_000002  32.975342\n",
       "1968-01-27   Z              2  K_000003  51.909589\n",
       "1982-10-22   Z              1  K_000004  37.164384\n",
       "1984-10-19   M              1  K_000005  35.169863"
      ]
     },
     "execution_count": 59,
     "metadata": {},
     "output_type": "execute_result"
    }
   ],
   "source": [
    "clients.head()"
   ]
  },
  {
   "cell_type": "code",
   "execution_count": 71,
   "metadata": {},
   "outputs": [
    {
     "data": {
      "text/html": [
       "<div>\n",
       "<style scoped>\n",
       "    .dataframe tbody tr th:only-of-type {\n",
       "        vertical-align: middle;\n",
       "    }\n",
       "\n",
       "    .dataframe tbody tr th {\n",
       "        vertical-align: top;\n",
       "    }\n",
       "\n",
       "    .dataframe thead th {\n",
       "        text-align: right;\n",
       "    }\n",
       "</style>\n",
       "<table border=\"1\" class=\"dataframe\">\n",
       "  <thead>\n",
       "    <tr style=\"text-align: right;\">\n",
       "      <th></th>\n",
       "      <th>Klient_ID</th>\n",
       "      <th>Age</th>\n",
       "    </tr>\n",
       "    <tr>\n",
       "      <th>DAT_NSC</th>\n",
       "      <th></th>\n",
       "      <th></th>\n",
       "    </tr>\n",
       "  </thead>\n",
       "  <tbody>\n",
       "    <tr>\n",
       "      <th>1984-10-19</th>\n",
       "      <td>K_000005</td>\n",
       "      <td>35.169863</td>\n",
       "    </tr>\n",
       "    <tr>\n",
       "      <th>1984-11-19</th>\n",
       "      <td>K_000081</td>\n",
       "      <td>35.084932</td>\n",
       "    </tr>\n",
       "    <tr>\n",
       "      <th>1984-10-24</th>\n",
       "      <td>K_000135</td>\n",
       "      <td>35.156164</td>\n",
       "    </tr>\n",
       "    <tr>\n",
       "      <th>1984-10-25</th>\n",
       "      <td>K_000156</td>\n",
       "      <td>35.153425</td>\n",
       "    </tr>\n",
       "    <tr>\n",
       "      <th>1984-12-12</th>\n",
       "      <td>K_000169</td>\n",
       "      <td>35.021918</td>\n",
       "    </tr>\n",
       "  </tbody>\n",
       "</table>\n",
       "</div>"
      ],
      "text/plain": [
       "           Klient_ID        Age\n",
       "DAT_NSC                        \n",
       "1984-10-19  K_000005  35.169863\n",
       "1984-11-19  K_000081  35.084932\n",
       "1984-10-24  K_000135  35.156164\n",
       "1984-10-25  K_000156  35.153425\n",
       "1984-12-12  K_000169  35.021918"
      ]
     },
     "execution_count": 71,
     "metadata": {},
     "output_type": "execute_result"
    }
   ],
   "source": [
    "clients.loc['1984-10-19':'December 31st, 1984', ['Klient_ID', 'Age']].head()"
   ]
  },
  {
   "cell_type": "code",
   "execution_count": 74,
   "metadata": {},
   "outputs": [
    {
     "data": {
      "text/html": [
       "<div>\n",
       "<style scoped>\n",
       "    .dataframe tbody tr th:only-of-type {\n",
       "        vertical-align: middle;\n",
       "    }\n",
       "\n",
       "    .dataframe tbody tr th {\n",
       "        vertical-align: top;\n",
       "    }\n",
       "\n",
       "    .dataframe thead th {\n",
       "        text-align: right;\n",
       "    }\n",
       "</style>\n",
       "<table border=\"1\" class=\"dataframe\">\n",
       "  <thead>\n",
       "    <tr style=\"text-align: right;\">\n",
       "      <th></th>\n",
       "      <th>SEX</th>\n",
       "      <th>TIPO_FINZ_GARN</th>\n",
       "      <th>Klient_ID</th>\n",
       "      <th>Age</th>\n",
       "    </tr>\n",
       "    <tr>\n",
       "      <th>DAT_NSC</th>\n",
       "      <th></th>\n",
       "      <th></th>\n",
       "      <th></th>\n",
       "      <th></th>\n",
       "    </tr>\n",
       "  </thead>\n",
       "  <tbody>\n",
       "    <tr>\n",
       "      <th>1984-10-19</th>\n",
       "      <td>M</td>\n",
       "      <td>1</td>\n",
       "      <td>K_000005</td>\n",
       "      <td>35.169863</td>\n",
       "    </tr>\n",
       "    <tr>\n",
       "      <th>1984-05-26</th>\n",
       "      <td>M</td>\n",
       "      <td>1</td>\n",
       "      <td>K_000011</td>\n",
       "      <td>35.569863</td>\n",
       "    </tr>\n",
       "    <tr>\n",
       "      <th>1984-11-19</th>\n",
       "      <td>M</td>\n",
       "      <td>1</td>\n",
       "      <td>K_000081</td>\n",
       "      <td>35.084932</td>\n",
       "    </tr>\n",
       "    <tr>\n",
       "      <th>1984-08-09</th>\n",
       "      <td>M</td>\n",
       "      <td>1</td>\n",
       "      <td>K_000106</td>\n",
       "      <td>35.364384</td>\n",
       "    </tr>\n",
       "    <tr>\n",
       "      <th>1984-03-13</th>\n",
       "      <td>M</td>\n",
       "      <td>1</td>\n",
       "      <td>K_000120</td>\n",
       "      <td>35.772603</td>\n",
       "    </tr>\n",
       "  </tbody>\n",
       "</table>\n",
       "</div>"
      ],
      "text/plain": [
       "           SEX TIPO_FINZ_GARN Klient_ID        Age\n",
       "DAT_NSC                                           \n",
       "1984-10-19   M              1  K_000005  35.169863\n",
       "1984-05-26   M              1  K_000011  35.569863\n",
       "1984-11-19   M              1  K_000081  35.084932\n",
       "1984-08-09   M              1  K_000106  35.364384\n",
       "1984-03-13   M              1  K_000120  35.772603"
      ]
     },
     "execution_count": 74,
     "metadata": {},
     "output_type": "execute_result"
    }
   ],
   "source": [
    "clients['1984'].head()"
   ]
  },
  {
   "cell_type": "code",
   "execution_count": 76,
   "metadata": {},
   "outputs": [],
   "source": [
    "clients.sort_index(inplace=True)"
   ]
  },
  {
   "cell_type": "code",
   "execution_count": 81,
   "metadata": {},
   "outputs": [
    {
     "data": {
      "text/html": [
       "<div>\n",
       "<style scoped>\n",
       "    .dataframe tbody tr th:only-of-type {\n",
       "        vertical-align: middle;\n",
       "    }\n",
       "\n",
       "    .dataframe tbody tr th {\n",
       "        vertical-align: top;\n",
       "    }\n",
       "\n",
       "    .dataframe thead th {\n",
       "        text-align: right;\n",
       "    }\n",
       "</style>\n",
       "<table border=\"1\" class=\"dataframe\">\n",
       "  <thead>\n",
       "    <tr style=\"text-align: right;\">\n",
       "      <th></th>\n",
       "      <th>SEX</th>\n",
       "      <th>TIPO_FINZ_GARN</th>\n",
       "      <th>Klient_ID</th>\n",
       "      <th>Age</th>\n",
       "    </tr>\n",
       "    <tr>\n",
       "      <th>DAT_NSC</th>\n",
       "      <th></th>\n",
       "      <th></th>\n",
       "      <th></th>\n",
       "      <th></th>\n",
       "    </tr>\n",
       "  </thead>\n",
       "  <tbody>\n",
       "    <tr>\n",
       "      <th>1910-07-14</th>\n",
       "      <td>M</td>\n",
       "      <td>2</td>\n",
       "      <td>K_053918</td>\n",
       "      <td>109.487671</td>\n",
       "    </tr>\n",
       "    <tr>\n",
       "      <th>1917-03-29</th>\n",
       "      <td>M</td>\n",
       "      <td>1</td>\n",
       "      <td>K_098669</td>\n",
       "      <td>102.775342</td>\n",
       "    </tr>\n",
       "    <tr>\n",
       "      <th>1921-02-02</th>\n",
       "      <td>Z</td>\n",
       "      <td>1</td>\n",
       "      <td>K_099213</td>\n",
       "      <td>98.923288</td>\n",
       "    </tr>\n",
       "    <tr>\n",
       "      <th>1921-12-07</th>\n",
       "      <td>Z</td>\n",
       "      <td>1</td>\n",
       "      <td>K_008788</td>\n",
       "      <td>98.079452</td>\n",
       "    </tr>\n",
       "    <tr>\n",
       "      <th>1923-07-03</th>\n",
       "      <td>Z</td>\n",
       "      <td>1</td>\n",
       "      <td>K_041837</td>\n",
       "      <td>96.509589</td>\n",
       "    </tr>\n",
       "  </tbody>\n",
       "</table>\n",
       "</div>"
      ],
      "text/plain": [
       "           SEX TIPO_FINZ_GARN Klient_ID         Age\n",
       "DAT_NSC                                            \n",
       "1910-07-14   M              2  K_053918  109.487671\n",
       "1917-03-29   M              1  K_098669  102.775342\n",
       "1921-02-02   Z              1  K_099213   98.923288\n",
       "1921-12-07   Z              1  K_008788   98.079452\n",
       "1923-07-03   Z              1  K_041837   96.509589"
      ]
     },
     "execution_count": 81,
     "metadata": {},
     "output_type": "execute_result"
    }
   ],
   "source": [
    "clients.truncate(after='24/12/1986').head() #before / after"
   ]
  },
  {
   "cell_type": "code",
   "execution_count": 91,
   "metadata": {},
   "outputs": [
    {
     "data": {
      "text/plain": [
       "DAT_NSC\n",
       "1910-12-31        1\n",
       "1920-12-31        1\n",
       "1930-12-31       80\n",
       "1940-12-31     1474\n",
       "1950-12-31    10096\n",
       "1960-12-31    18958\n",
       "1970-12-31    23406\n",
       "1980-12-31    30515\n",
       "1990-12-31    15398\n",
       "2000-12-31       70\n",
       "2010-12-31        1\n",
       "Freq: 10A-DEC, Name: Klient_ID, dtype: int64"
      ]
     },
     "execution_count": 91,
     "metadata": {},
     "output_type": "execute_result"
    }
   ],
   "source": [
    "clients.resample('10Y')['Klient_ID'].count()"
   ]
  },
  {
   "cell_type": "code",
   "execution_count": 101,
   "metadata": {},
   "outputs": [
    {
     "data": {
      "text/html": [
       "<div>\n",
       "<style scoped>\n",
       "    .dataframe tbody tr th:only-of-type {\n",
       "        vertical-align: middle;\n",
       "    }\n",
       "\n",
       "    .dataframe tbody tr th {\n",
       "        vertical-align: top;\n",
       "    }\n",
       "\n",
       "    .dataframe thead th {\n",
       "        text-align: right;\n",
       "    }\n",
       "</style>\n",
       "<table border=\"1\" class=\"dataframe\">\n",
       "  <thead>\n",
       "    <tr style=\"text-align: right;\">\n",
       "      <th></th>\n",
       "      <th>open</th>\n",
       "      <th>high</th>\n",
       "      <th>low</th>\n",
       "      <th>close</th>\n",
       "    </tr>\n",
       "    <tr>\n",
       "      <th>DAT_NSC</th>\n",
       "      <th></th>\n",
       "      <th></th>\n",
       "      <th></th>\n",
       "      <th></th>\n",
       "    </tr>\n",
       "  </thead>\n",
       "  <tbody>\n",
       "    <tr>\n",
       "      <th>1910-12-31</th>\n",
       "      <td>109.487671</td>\n",
       "      <td>109.487671</td>\n",
       "      <td>109.487671</td>\n",
       "      <td>109.487671</td>\n",
       "    </tr>\n",
       "    <tr>\n",
       "      <th>1920-12-31</th>\n",
       "      <td>102.775342</td>\n",
       "      <td>102.775342</td>\n",
       "      <td>102.775342</td>\n",
       "      <td>102.775342</td>\n",
       "    </tr>\n",
       "    <tr>\n",
       "      <th>1930-12-31</th>\n",
       "      <td>98.923288</td>\n",
       "      <td>98.923288</td>\n",
       "      <td>89.013699</td>\n",
       "      <td>89.013699</td>\n",
       "    </tr>\n",
       "    <tr>\n",
       "      <th>1940-12-31</th>\n",
       "      <td>88.978082</td>\n",
       "      <td>88.978082</td>\n",
       "      <td>79.019178</td>\n",
       "      <td>79.019178</td>\n",
       "    </tr>\n",
       "    <tr>\n",
       "      <th>1950-12-31</th>\n",
       "      <td>78.991781</td>\n",
       "      <td>78.991781</td>\n",
       "      <td>68.994521</td>\n",
       "      <td>68.994521</td>\n",
       "    </tr>\n",
       "    <tr>\n",
       "      <th>1960-12-31</th>\n",
       "      <td>68.991781</td>\n",
       "      <td>68.991781</td>\n",
       "      <td>58.986301</td>\n",
       "      <td>58.986301</td>\n",
       "    </tr>\n",
       "    <tr>\n",
       "      <th>1970-12-31</th>\n",
       "      <td>58.983562</td>\n",
       "      <td>58.983562</td>\n",
       "      <td>48.980822</td>\n",
       "      <td>48.980822</td>\n",
       "    </tr>\n",
       "    <tr>\n",
       "      <th>1980-12-31</th>\n",
       "      <td>48.978082</td>\n",
       "      <td>48.978082</td>\n",
       "      <td>38.972603</td>\n",
       "      <td>38.972603</td>\n",
       "    </tr>\n",
       "    <tr>\n",
       "      <th>1990-12-31</th>\n",
       "      <td>38.969863</td>\n",
       "      <td>38.969863</td>\n",
       "      <td>28.969863</td>\n",
       "      <td>28.969863</td>\n",
       "    </tr>\n",
       "    <tr>\n",
       "      <th>2000-12-31</th>\n",
       "      <td>28.964384</td>\n",
       "      <td>28.964384</td>\n",
       "      <td>27.386301</td>\n",
       "      <td>27.386301</td>\n",
       "    </tr>\n",
       "    <tr>\n",
       "      <th>2010-12-31</th>\n",
       "      <td>14.797260</td>\n",
       "      <td>14.797260</td>\n",
       "      <td>14.797260</td>\n",
       "      <td>14.797260</td>\n",
       "    </tr>\n",
       "  </tbody>\n",
       "</table>\n",
       "</div>"
      ],
      "text/plain": [
       "                  open        high         low       close\n",
       "DAT_NSC                                                   \n",
       "1910-12-31  109.487671  109.487671  109.487671  109.487671\n",
       "1920-12-31  102.775342  102.775342  102.775342  102.775342\n",
       "1930-12-31   98.923288   98.923288   89.013699   89.013699\n",
       "1940-12-31   88.978082   88.978082   79.019178   79.019178\n",
       "1950-12-31   78.991781   78.991781   68.994521   68.994521\n",
       "1960-12-31   68.991781   68.991781   58.986301   58.986301\n",
       "1970-12-31   58.983562   58.983562   48.980822   48.980822\n",
       "1980-12-31   48.978082   48.978082   38.972603   38.972603\n",
       "1990-12-31   38.969863   38.969863   28.969863   28.969863\n",
       "2000-12-31   28.964384   28.964384   27.386301   27.386301\n",
       "2010-12-31   14.797260   14.797260   14.797260   14.797260"
      ]
     },
     "execution_count": 101,
     "metadata": {},
     "output_type": "execute_result"
    }
   ],
   "source": [
    "clients.resample('10Y')['Age'].ohlc() # .first(), .max(), .min(), .last()"
   ]
  },
  {
   "cell_type": "code",
   "execution_count": 102,
   "metadata": {},
   "outputs": [
    {
     "data": {
      "text/html": [
       "<div>\n",
       "<style scoped>\n",
       "    .dataframe tbody tr th:only-of-type {\n",
       "        vertical-align: middle;\n",
       "    }\n",
       "\n",
       "    .dataframe tbody tr th {\n",
       "        vertical-align: top;\n",
       "    }\n",
       "\n",
       "    .dataframe thead th {\n",
       "        text-align: right;\n",
       "    }\n",
       "</style>\n",
       "<table border=\"1\" class=\"dataframe\">\n",
       "  <thead>\n",
       "    <tr style=\"text-align: right;\">\n",
       "      <th></th>\n",
       "      <th>SEX</th>\n",
       "      <th>TIPO_FINZ_GARN</th>\n",
       "      <th>Klient_ID</th>\n",
       "      <th>Age</th>\n",
       "    </tr>\n",
       "    <tr>\n",
       "      <th>DAT_NSC</th>\n",
       "      <th></th>\n",
       "      <th></th>\n",
       "      <th></th>\n",
       "      <th></th>\n",
       "    </tr>\n",
       "  </thead>\n",
       "  <tbody>\n",
       "    <tr>\n",
       "      <th>1910-07-14</th>\n",
       "      <td>M</td>\n",
       "      <td>2</td>\n",
       "      <td>K_053918</td>\n",
       "      <td>109.487671</td>\n",
       "    </tr>\n",
       "    <tr>\n",
       "      <th>1917-03-29</th>\n",
       "      <td>M</td>\n",
       "      <td>1</td>\n",
       "      <td>K_098669</td>\n",
       "      <td>102.775342</td>\n",
       "    </tr>\n",
       "    <tr>\n",
       "      <th>1921-02-02</th>\n",
       "      <td>Z</td>\n",
       "      <td>1</td>\n",
       "      <td>K_099213</td>\n",
       "      <td>98.923288</td>\n",
       "    </tr>\n",
       "    <tr>\n",
       "      <th>1921-12-07</th>\n",
       "      <td>Z</td>\n",
       "      <td>1</td>\n",
       "      <td>K_008788</td>\n",
       "      <td>98.079452</td>\n",
       "    </tr>\n",
       "    <tr>\n",
       "      <th>1923-07-03</th>\n",
       "      <td>Z</td>\n",
       "      <td>1</td>\n",
       "      <td>K_041837</td>\n",
       "      <td>96.509589</td>\n",
       "    </tr>\n",
       "  </tbody>\n",
       "</table>\n",
       "</div>"
      ],
      "text/plain": [
       "           SEX TIPO_FINZ_GARN Klient_ID         Age\n",
       "DAT_NSC                                            \n",
       "1910-07-14   M              2  K_053918  109.487671\n",
       "1917-03-29   M              1  K_098669  102.775342\n",
       "1921-02-02   Z              1  K_099213   98.923288\n",
       "1921-12-07   Z              1  K_008788   98.079452\n",
       "1923-07-03   Z              1  K_041837   96.509589"
      ]
     },
     "execution_count": 102,
     "metadata": {},
     "output_type": "execute_result"
    }
   ],
   "source": [
    "clients.head()"
   ]
  },
  {
   "cell_type": "code",
   "execution_count": 103,
   "metadata": {},
   "outputs": [
    {
     "data": {
      "text/html": [
       "<div>\n",
       "<style scoped>\n",
       "    .dataframe tbody tr th:only-of-type {\n",
       "        vertical-align: middle;\n",
       "    }\n",
       "\n",
       "    .dataframe tbody tr th {\n",
       "        vertical-align: top;\n",
       "    }\n",
       "\n",
       "    .dataframe thead th {\n",
       "        text-align: right;\n",
       "    }\n",
       "</style>\n",
       "<table border=\"1\" class=\"dataframe\">\n",
       "  <thead>\n",
       "    <tr style=\"text-align: right;\">\n",
       "      <th></th>\n",
       "      <th>SEX</th>\n",
       "      <th>TIPO_FINZ_GARN</th>\n",
       "      <th>Klient_ID</th>\n",
       "      <th>Age</th>\n",
       "    </tr>\n",
       "    <tr>\n",
       "      <th>DAT_NSC</th>\n",
       "      <th></th>\n",
       "      <th></th>\n",
       "      <th></th>\n",
       "      <th></th>\n",
       "    </tr>\n",
       "  </thead>\n",
       "  <tbody>\n",
       "    <tr>\n",
       "      <th>1991-12-12</th>\n",
       "      <td>M</td>\n",
       "      <td>2</td>\n",
       "      <td>K_099995</td>\n",
       "      <td>27.580822</td>\n",
       "    </tr>\n",
       "    <tr>\n",
       "      <th>1992-05-20</th>\n",
       "      <td>M</td>\n",
       "      <td>1</td>\n",
       "      <td>K_093111</td>\n",
       "      <td>27.506849</td>\n",
       "    </tr>\n",
       "    <tr>\n",
       "      <th>1992-06-16</th>\n",
       "      <td>M</td>\n",
       "      <td>1</td>\n",
       "      <td>K_093016</td>\n",
       "      <td>27.386301</td>\n",
       "    </tr>\n",
       "    <tr>\n",
       "      <th>1992-07-30</th>\n",
       "      <td>Z</td>\n",
       "      <td>1</td>\n",
       "      <td>K_048097</td>\n",
       "      <td>14.797260</td>\n",
       "    </tr>\n",
       "    <tr>\n",
       "      <th>2005-02-27</th>\n",
       "      <td>NaN</td>\n",
       "      <td>NaN</td>\n",
       "      <td>NaN</td>\n",
       "      <td>NaN</td>\n",
       "    </tr>\n",
       "  </tbody>\n",
       "</table>\n",
       "</div>"
      ],
      "text/plain": [
       "            SEX TIPO_FINZ_GARN Klient_ID        Age\n",
       "DAT_NSC                                            \n",
       "1991-12-12    M              2  K_099995  27.580822\n",
       "1992-05-20    M              1  K_093111  27.506849\n",
       "1992-06-16    M              1  K_093016  27.386301\n",
       "1992-07-30    Z              1  K_048097  14.797260\n",
       "2005-02-27  NaN            NaN       NaN        NaN"
      ]
     },
     "execution_count": 103,
     "metadata": {},
     "output_type": "execute_result"
    }
   ],
   "source": [
    "clients.shift(-1).tail()"
   ]
  },
  {
   "cell_type": "code",
   "execution_count": 104,
   "metadata": {},
   "outputs": [
    {
     "data": {
      "text/plain": [
       "DAT_NSC\n",
       "1910-07-14         NaN\n",
       "1917-03-29   -0.065311\n",
       "1921-02-02   -0.038940\n",
       "1921-12-07   -0.008604\n",
       "1923-07-03   -0.016266\n",
       "1923-07-05   -0.000057\n",
       "1923-08-15   -0.001165\n",
       "1924-10-24   -0.012548\n",
       "1924-11-11   -0.000518\n",
       "1924-11-16   -0.000144\n",
       "1924-12-22   -0.001038\n",
       "1925-02-09   -0.001415\n",
       "1925-02-18   -0.000260\n",
       "1925-03-07   -0.000491\n",
       "1925-06-21   -0.003072\n",
       "1925-06-29   -0.000232\n",
       "1925-10-14   -0.003111\n",
       "1925-10-18   -0.000116\n",
       "1926-01-21   -0.002770\n",
       "1926-07-20   -0.005277\n",
       "1926-07-31   -0.000323\n",
       "1926-09-19   -0.001468\n",
       "1926-10-17   -0.000823\n",
       "1926-11-20   -0.001000\n",
       "1926-12-14   -0.000707\n",
       "1927-06-25   -0.005715\n",
       "1927-09-09   -0.002255\n",
       "1927-10-06   -0.000802\n",
       "1927-10-16   -0.000297\n",
       "1927-11-02   -0.000505\n",
       "                ...   \n",
       "1991-06-11   -0.000384\n",
       "1991-06-13   -0.000192\n",
       "1991-06-24   -0.001058\n",
       "1991-06-28   -0.000385\n",
       "1991-06-29   -0.000096\n",
       "1991-06-30   -0.000096\n",
       "1991-07-03   -0.000289\n",
       "1991-07-03    0.000000\n",
       "1991-07-03    0.000000\n",
       "1991-07-07   -0.000385\n",
       "1991-08-05   -0.002800\n",
       "1991-08-07   -0.000193\n",
       "1991-08-09   -0.000193\n",
       "1991-08-14   -0.000483\n",
       "1991-08-16   -0.000193\n",
       "1991-08-24   -0.000774\n",
       "1991-08-29   -0.000484\n",
       "1991-08-29    0.000000\n",
       "1991-08-31   -0.000194\n",
       "1991-08-31    0.000000\n",
       "1991-10-15   -0.004375\n",
       "1991-10-18   -0.000292\n",
       "1991-11-23   -0.003514\n",
       "1991-11-25   -0.000195\n",
       "1991-12-09   -0.001369\n",
       "1991-12-12   -0.000293\n",
       "1992-05-20   -0.015894\n",
       "1992-06-16   -0.002689\n",
       "1992-07-30   -0.004402\n",
       "2005-02-27   -0.850768\n",
       "Name: Age, Length: 100000, dtype: float64"
      ]
     },
     "execution_count": 104,
     "metadata": {},
     "output_type": "execute_result"
    }
   ],
   "source": [
    "(clients['Age']-clients['Age'].shift(1))/clients['Age']"
   ]
  },
  {
   "cell_type": "markdown",
   "metadata": {},
   "source": [
    "## Dealing with missing values in time series"
   ]
  },
  {
   "cell_type": "code",
   "execution_count": 119,
   "metadata": {},
   "outputs": [],
   "source": [
    "time_index = pd.date_range('01/01/2019', periods=5, freq='MS')"
   ]
  },
  {
   "cell_type": "code",
   "execution_count": 120,
   "metadata": {},
   "outputs": [
    {
     "data": {
      "text/plain": [
       "DatetimeIndex(['2019-01-01', '2019-02-01', '2019-03-01', '2019-04-01',\n",
       "               '2019-05-01'],\n",
       "              dtype='datetime64[ns]', freq='MS')"
      ]
     },
     "execution_count": 120,
     "metadata": {},
     "output_type": "execute_result"
    }
   ],
   "source": [
    "time_index"
   ]
  },
  {
   "cell_type": "code",
   "execution_count": 121,
   "metadata": {},
   "outputs": [],
   "source": [
    "df = pd.DataFrame(index=time_index)"
   ]
  },
  {
   "cell_type": "code",
   "execution_count": 122,
   "metadata": {},
   "outputs": [],
   "source": [
    "df['Sales'] = [1.0, 2.0, np.nan, np.nan, 5.0]"
   ]
  },
  {
   "cell_type": "code",
   "execution_count": 123,
   "metadata": {},
   "outputs": [
    {
     "data": {
      "text/html": [
       "<div>\n",
       "<style scoped>\n",
       "    .dataframe tbody tr th:only-of-type {\n",
       "        vertical-align: middle;\n",
       "    }\n",
       "\n",
       "    .dataframe tbody tr th {\n",
       "        vertical-align: top;\n",
       "    }\n",
       "\n",
       "    .dataframe thead th {\n",
       "        text-align: right;\n",
       "    }\n",
       "</style>\n",
       "<table border=\"1\" class=\"dataframe\">\n",
       "  <thead>\n",
       "    <tr style=\"text-align: right;\">\n",
       "      <th></th>\n",
       "      <th>Sales</th>\n",
       "    </tr>\n",
       "  </thead>\n",
       "  <tbody>\n",
       "    <tr>\n",
       "      <th>2019-01-01</th>\n",
       "      <td>1.0</td>\n",
       "    </tr>\n",
       "    <tr>\n",
       "      <th>2019-02-01</th>\n",
       "      <td>2.0</td>\n",
       "    </tr>\n",
       "    <tr>\n",
       "      <th>2019-03-01</th>\n",
       "      <td>NaN</td>\n",
       "    </tr>\n",
       "    <tr>\n",
       "      <th>2019-04-01</th>\n",
       "      <td>NaN</td>\n",
       "    </tr>\n",
       "    <tr>\n",
       "      <th>2019-05-01</th>\n",
       "      <td>5.0</td>\n",
       "    </tr>\n",
       "  </tbody>\n",
       "</table>\n",
       "</div>"
      ],
      "text/plain": [
       "            Sales\n",
       "2019-01-01    1.0\n",
       "2019-02-01    2.0\n",
       "2019-03-01    NaN\n",
       "2019-04-01    NaN\n",
       "2019-05-01    5.0"
      ]
     },
     "execution_count": 123,
     "metadata": {},
     "output_type": "execute_result"
    }
   ],
   "source": [
    "df.head()"
   ]
  },
  {
   "cell_type": "code",
   "execution_count": 124,
   "metadata": {},
   "outputs": [
    {
     "data": {
      "text/html": [
       "<div>\n",
       "<style scoped>\n",
       "    .dataframe tbody tr th:only-of-type {\n",
       "        vertical-align: middle;\n",
       "    }\n",
       "\n",
       "    .dataframe tbody tr th {\n",
       "        vertical-align: top;\n",
       "    }\n",
       "\n",
       "    .dataframe thead th {\n",
       "        text-align: right;\n",
       "    }\n",
       "</style>\n",
       "<table border=\"1\" class=\"dataframe\">\n",
       "  <thead>\n",
       "    <tr style=\"text-align: right;\">\n",
       "      <th></th>\n",
       "      <th>Sales</th>\n",
       "    </tr>\n",
       "  </thead>\n",
       "  <tbody>\n",
       "    <tr>\n",
       "      <th>2019-01-01</th>\n",
       "      <td>1.0</td>\n",
       "    </tr>\n",
       "    <tr>\n",
       "      <th>2019-02-01</th>\n",
       "      <td>2.0</td>\n",
       "    </tr>\n",
       "    <tr>\n",
       "      <th>2019-03-01</th>\n",
       "      <td>3.0</td>\n",
       "    </tr>\n",
       "    <tr>\n",
       "      <th>2019-04-01</th>\n",
       "      <td>4.0</td>\n",
       "    </tr>\n",
       "    <tr>\n",
       "      <th>2019-05-01</th>\n",
       "      <td>5.0</td>\n",
       "    </tr>\n",
       "  </tbody>\n",
       "</table>\n",
       "</div>"
      ],
      "text/plain": [
       "            Sales\n",
       "2019-01-01    1.0\n",
       "2019-02-01    2.0\n",
       "2019-03-01    3.0\n",
       "2019-04-01    4.0\n",
       "2019-05-01    5.0"
      ]
     },
     "execution_count": 124,
     "metadata": {},
     "output_type": "execute_result"
    }
   ],
   "source": [
    "df.interpolate()"
   ]
  },
  {
   "cell_type": "code",
   "execution_count": 125,
   "metadata": {},
   "outputs": [
    {
     "data": {
      "text/html": [
       "<div>\n",
       "<style scoped>\n",
       "    .dataframe tbody tr th:only-of-type {\n",
       "        vertical-align: middle;\n",
       "    }\n",
       "\n",
       "    .dataframe tbody tr th {\n",
       "        vertical-align: top;\n",
       "    }\n",
       "\n",
       "    .dataframe thead th {\n",
       "        text-align: right;\n",
       "    }\n",
       "</style>\n",
       "<table border=\"1\" class=\"dataframe\">\n",
       "  <thead>\n",
       "    <tr style=\"text-align: right;\">\n",
       "      <th></th>\n",
       "      <th>Sales</th>\n",
       "    </tr>\n",
       "  </thead>\n",
       "  <tbody>\n",
       "    <tr>\n",
       "      <th>2019-01-01</th>\n",
       "      <td>1.0</td>\n",
       "    </tr>\n",
       "    <tr>\n",
       "      <th>2019-02-01</th>\n",
       "      <td>2.0</td>\n",
       "    </tr>\n",
       "    <tr>\n",
       "      <th>2019-03-01</th>\n",
       "      <td>2.0</td>\n",
       "    </tr>\n",
       "    <tr>\n",
       "      <th>2019-04-01</th>\n",
       "      <td>2.0</td>\n",
       "    </tr>\n",
       "    <tr>\n",
       "      <th>2019-05-01</th>\n",
       "      <td>5.0</td>\n",
       "    </tr>\n",
       "  </tbody>\n",
       "</table>\n",
       "</div>"
      ],
      "text/plain": [
       "            Sales\n",
       "2019-01-01    1.0\n",
       "2019-02-01    2.0\n",
       "2019-03-01    2.0\n",
       "2019-04-01    2.0\n",
       "2019-05-01    5.0"
      ]
     },
     "execution_count": 125,
     "metadata": {},
     "output_type": "execute_result"
    }
   ],
   "source": [
    "df.ffill()"
   ]
  },
  {
   "cell_type": "code",
   "execution_count": 126,
   "metadata": {},
   "outputs": [
    {
     "data": {
      "text/html": [
       "<div>\n",
       "<style scoped>\n",
       "    .dataframe tbody tr th:only-of-type {\n",
       "        vertical-align: middle;\n",
       "    }\n",
       "\n",
       "    .dataframe tbody tr th {\n",
       "        vertical-align: top;\n",
       "    }\n",
       "\n",
       "    .dataframe thead th {\n",
       "        text-align: right;\n",
       "    }\n",
       "</style>\n",
       "<table border=\"1\" class=\"dataframe\">\n",
       "  <thead>\n",
       "    <tr style=\"text-align: right;\">\n",
       "      <th></th>\n",
       "      <th>Sales</th>\n",
       "    </tr>\n",
       "  </thead>\n",
       "  <tbody>\n",
       "    <tr>\n",
       "      <th>2019-01-01</th>\n",
       "      <td>1.0</td>\n",
       "    </tr>\n",
       "    <tr>\n",
       "      <th>2019-02-01</th>\n",
       "      <td>2.0</td>\n",
       "    </tr>\n",
       "    <tr>\n",
       "      <th>2019-03-01</th>\n",
       "      <td>5.0</td>\n",
       "    </tr>\n",
       "    <tr>\n",
       "      <th>2019-04-01</th>\n",
       "      <td>5.0</td>\n",
       "    </tr>\n",
       "    <tr>\n",
       "      <th>2019-05-01</th>\n",
       "      <td>5.0</td>\n",
       "    </tr>\n",
       "  </tbody>\n",
       "</table>\n",
       "</div>"
      ],
      "text/plain": [
       "            Sales\n",
       "2019-01-01    1.0\n",
       "2019-02-01    2.0\n",
       "2019-03-01    5.0\n",
       "2019-04-01    5.0\n",
       "2019-05-01    5.0"
      ]
     },
     "execution_count": 126,
     "metadata": {},
     "output_type": "execute_result"
    }
   ],
   "source": [
    "df.bfill()"
   ]
  },
  {
   "cell_type": "code",
   "execution_count": 134,
   "metadata": {},
   "outputs": [
    {
     "data": {
      "text/html": [
       "<div>\n",
       "<style scoped>\n",
       "    .dataframe tbody tr th:only-of-type {\n",
       "        vertical-align: middle;\n",
       "    }\n",
       "\n",
       "    .dataframe tbody tr th {\n",
       "        vertical-align: top;\n",
       "    }\n",
       "\n",
       "    .dataframe thead th {\n",
       "        text-align: right;\n",
       "    }\n",
       "</style>\n",
       "<table border=\"1\" class=\"dataframe\">\n",
       "  <thead>\n",
       "    <tr style=\"text-align: right;\">\n",
       "      <th></th>\n",
       "      <th>Sales</th>\n",
       "    </tr>\n",
       "  </thead>\n",
       "  <tbody>\n",
       "    <tr>\n",
       "      <th>2019-01-01</th>\n",
       "      <td>1.000000</td>\n",
       "    </tr>\n",
       "    <tr>\n",
       "      <th>2019-02-01</th>\n",
       "      <td>2.000000</td>\n",
       "    </tr>\n",
       "    <tr>\n",
       "      <th>2019-03-01</th>\n",
       "      <td>2.923185</td>\n",
       "    </tr>\n",
       "    <tr>\n",
       "      <th>2019-04-01</th>\n",
       "      <td>3.967379</td>\n",
       "    </tr>\n",
       "    <tr>\n",
       "      <th>2019-05-01</th>\n",
       "      <td>5.000000</td>\n",
       "    </tr>\n",
       "  </tbody>\n",
       "</table>\n",
       "</div>"
      ],
      "text/plain": [
       "               Sales\n",
       "2019-01-01  1.000000\n",
       "2019-02-01  2.000000\n",
       "2019-03-01  2.923185\n",
       "2019-04-01  3.967379\n",
       "2019-05-01  5.000000"
      ]
     },
     "execution_count": 134,
     "metadata": {},
     "output_type": "execute_result"
    }
   ],
   "source": [
    "df.interpolate(limit=2, limit_direction='backward', method='polynomial', order=2)"
   ]
  },
  {
   "cell_type": "code",
   "execution_count": 132,
   "metadata": {},
   "outputs": [
    {
     "data": {
      "text/html": [
       "<div>\n",
       "<style scoped>\n",
       "    .dataframe tbody tr th:only-of-type {\n",
       "        vertical-align: middle;\n",
       "    }\n",
       "\n",
       "    .dataframe tbody tr th {\n",
       "        vertical-align: top;\n",
       "    }\n",
       "\n",
       "    .dataframe thead th {\n",
       "        text-align: right;\n",
       "    }\n",
       "</style>\n",
       "<table border=\"1\" class=\"dataframe\">\n",
       "  <thead>\n",
       "    <tr style=\"text-align: right;\">\n",
       "      <th></th>\n",
       "      <th>Sales</th>\n",
       "    </tr>\n",
       "  </thead>\n",
       "  <tbody>\n",
       "    <tr>\n",
       "      <th>2019-01-01</th>\n",
       "      <td>1.0</td>\n",
       "    </tr>\n",
       "    <tr>\n",
       "      <th>2019-02-01</th>\n",
       "      <td>2.0</td>\n",
       "    </tr>\n",
       "    <tr>\n",
       "      <th>2019-03-01</th>\n",
       "      <td>2.0</td>\n",
       "    </tr>\n",
       "    <tr>\n",
       "      <th>2019-04-01</th>\n",
       "      <td>2.0</td>\n",
       "    </tr>\n",
       "    <tr>\n",
       "      <th>2019-05-01</th>\n",
       "      <td>5.0</td>\n",
       "    </tr>\n",
       "  </tbody>\n",
       "</table>\n",
       "</div>"
      ],
      "text/plain": [
       "            Sales\n",
       "2019-01-01    1.0\n",
       "2019-02-01    2.0\n",
       "2019-03-01    2.0\n",
       "2019-04-01    2.0\n",
       "2019-05-01    5.0"
      ]
     },
     "execution_count": 132,
     "metadata": {},
     "output_type": "execute_result"
    }
   ],
   "source": [
    "df.fillna(method='pad')"
   ]
  },
  {
   "cell_type": "code",
   "execution_count": null,
   "metadata": {},
   "outputs": [],
   "source": []
  }
 ],
 "metadata": {
  "kernelspec": {
   "display_name": "Python 3",
   "language": "python",
   "name": "python3"
  },
  "language_info": {
   "codemirror_mode": {
    "name": "ipython",
    "version": 3
   },
   "file_extension": ".py",
   "mimetype": "text/x-python",
   "name": "python",
   "nbconvert_exporter": "python",
   "pygments_lexer": "ipython3",
   "version": "3.6.4"
  }
 },
 "nbformat": 4,
 "nbformat_minor": 2
}
